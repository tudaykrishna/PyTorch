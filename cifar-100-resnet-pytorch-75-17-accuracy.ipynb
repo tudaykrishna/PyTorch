{
 "cells": [
  {
   "cell_type": "code",
   "execution_count": 1,
   "id": "b70b27d4",
   "metadata": {
    "execution": {
     "iopub.execute_input": "2021-11-08T05:36:50.768174Z",
     "iopub.status.busy": "2021-11-08T05:36:50.766635Z",
     "iopub.status.idle": "2021-11-08T05:36:53.170678Z",
     "shell.execute_reply": "2021-11-08T05:36:53.170103Z",
     "shell.execute_reply.started": "2021-11-07T06:37:34.942075Z"
    },
    "papermill": {
     "duration": 2.429127,
     "end_time": "2021-11-08T05:36:53.170837",
     "exception": false,
     "start_time": "2021-11-08T05:36:50.741710",
     "status": "completed"
    },
    "tags": []
   },
   "outputs": [],
   "source": [
    "import pandas as pd\n",
    "import os\n",
    "import torch\n",
    "import time\n",
    "import torchvision\n",
    "import torch.nn as nn\n",
    "import numpy as np\n",
    "import torch.nn.functional as F\n",
    "from torchvision.datasets.utils import download_url\n",
    "from torchvision.datasets import ImageFolder\n",
    "from torch.utils.data import DataLoader\n",
    "import torchvision.transforms as tt\n",
    "from torch.utils.data import random_split\n",
    "from torchvision.utils import make_grid\n",
    "import torchvision.models as models\n",
    "import matplotlib.pyplot as plt\n",
    "from sklearn.metrics import *\n",
    "\n",
    "%matplotlib inline"
   ]
  },
  {
   "cell_type": "code",
   "execution_count": 2,
   "id": "dd66f3ae",
   "metadata": {
    "execution": {
     "iopub.execute_input": "2021-11-08T05:36:53.214595Z",
     "iopub.status.busy": "2021-11-08T05:36:53.213777Z",
     "iopub.status.idle": "2021-11-08T05:36:53.216201Z",
     "shell.execute_reply": "2021-11-08T05:36:53.215771Z",
     "shell.execute_reply.started": "2021-11-07T06:37:34.965919Z"
    },
    "papermill": {
     "duration": 0.024689,
     "end_time": "2021-11-08T05:36:53.216321",
     "exception": false,
     "start_time": "2021-11-08T05:36:53.191632",
     "status": "completed"
    },
    "tags": []
   },
   "outputs": [],
   "source": [
    "batch_size = 400\n",
    "epochs = 120\n",
    "max_lr = 0.001\n",
    "grad_clip = 0.01\n",
    "weight_decay =0.001\n",
    "opt_func = torch.optim.Adam"
   ]
  },
  {
   "cell_type": "code",
   "execution_count": 3,
   "id": "96b04be8",
   "metadata": {
    "execution": {
     "iopub.execute_input": "2021-11-08T05:36:53.263498Z",
     "iopub.status.busy": "2021-11-08T05:36:53.262730Z",
     "iopub.status.idle": "2021-11-08T05:37:10.205589Z",
     "shell.execute_reply": "2021-11-08T05:37:10.205100Z",
     "shell.execute_reply.started": "2021-11-07T06:37:34.974096Z"
    },
    "papermill": {
     "duration": 16.970797,
     "end_time": "2021-11-08T05:37:10.205725",
     "exception": false,
     "start_time": "2021-11-08T05:36:53.234928",
     "status": "completed"
    },
    "tags": []
   },
   "outputs": [
    {
     "name": "stdout",
     "output_type": "stream",
     "text": [
      "Downloading https://www.cs.toronto.edu/~kriz/cifar-100-python.tar.gz to ./cifar-100-python.tar.gz\n"
     ]
    },
    {
     "name": "stderr",
     "output_type": "stream",
     "text": [
      "100%|██████████| 169001437/169001437 [01:03<00:00, 2677523.14it/s]\n"
     ]
    },
    {
     "name": "stdout",
     "output_type": "stream",
     "text": [
      "Extracting ./cifar-100-python.tar.gz to ./\n"
     ]
    }
   ],
   "source": [
    "train_data = torchvision.datasets.CIFAR100('./', train=True, download=True)\n",
    "\n",
    "# Stick all the images together to form a 1600000 X 32 X 3 array\n",
    "x = np.concatenate([np.asarray(train_data[i][0]) for i in range(len(train_data))])\n",
    "\n",
    "# calculate the mean and std along the (0, 1) axes\n",
    "mean = np.mean(x, axis=(0, 1))/255\n",
    "std = np.std(x, axis=(0, 1))/255\n",
    "# the the mean and std\n",
    "mean=mean.tolist()\n",
    "std=std.tolist()\n"
   ]
  },
  {
   "cell_type": "code",
   "execution_count": 4,
   "id": "a02d3f5b",
   "metadata": {
    "execution": {
     "iopub.execute_input": "2021-11-08T05:37:10.250932Z",
     "iopub.status.busy": "2021-11-08T05:37:10.250103Z",
     "iopub.status.idle": "2021-11-08T05:37:10.252499Z",
     "shell.execute_reply": "2021-11-08T05:37:10.252062Z",
     "shell.execute_reply.started": "2021-11-07T06:37:56.940324Z"
    },
    "papermill": {
     "duration": 0.026811,
     "end_time": "2021-11-08T05:37:10.252601",
     "exception": false,
     "start_time": "2021-11-08T05:37:10.225790",
     "status": "completed"
    },
    "tags": []
   },
   "outputs": [],
   "source": [
    "transform_train = tt.Compose([tt.RandomCrop(32, padding=4,padding_mode='reflect'), \n",
    "                         tt.RandomHorizontalFlip(), \n",
    "                         tt.ToTensor(), \n",
    "                         tt.Normalize(mean,std,inplace=True)])\n",
    "transform_test = tt.Compose([tt.ToTensor(), tt.Normalize(mean,std)])"
   ]
  },
  {
   "cell_type": "code",
   "execution_count": 5,
   "id": "948820cc",
   "metadata": {
    "execution": {
     "iopub.execute_input": "2021-11-08T05:37:10.297232Z",
     "iopub.status.busy": "2021-11-08T05:37:10.296495Z",
     "iopub.status.idle": "2021-11-08T05:37:12.049204Z",
     "shell.execute_reply": "2021-11-08T05:37:12.048252Z",
     "shell.execute_reply.started": "2021-11-07T06:37:56.947735Z"
    },
    "papermill": {
     "duration": 1.777651,
     "end_time": "2021-11-08T05:37:12.049366",
     "exception": false,
     "start_time": "2021-11-08T05:37:10.271715",
     "status": "completed"
    },
    "tags": []
   },
   "outputs": [
    {
     "name": "stdout",
     "output_type": "stream",
     "text": [
      "Files already downloaded and verified\n",
      "Files already downloaded and verified\n"
     ]
    }
   ],
   "source": [
    "trainset = torchvision.datasets.CIFAR100(\"./\",\n",
    "                                         train=True,\n",
    "                                         download=True,\n",
    "                                         transform=transform_train)\n",
    "trainloader = torch.utils.data.DataLoader(\n",
    "    trainset, batch_size, shuffle=True, num_workers=2,pin_memory=True)\n",
    "\n",
    "testset = torchvision.datasets.CIFAR100(\"./\",\n",
    "                                        train=False,\n",
    "                                        download=True,\n",
    "                                        transform=transform_test)\n",
    "testloader = torch.utils.data.DataLoader(\n",
    "    testset, batch_size*2,pin_memory=True, num_workers=2)"
   ]
  },
  {
   "cell_type": "markdown",
   "id": "8bef0fd8",
   "metadata": {
    "papermill": {
     "duration": 0.019832,
     "end_time": "2021-11-08T05:37:12.089972",
     "exception": false,
     "start_time": "2021-11-08T05:37:12.070140",
     "status": "completed"
    },
    "tags": []
   },
   "source": [
    "# Device check and load model into device"
   ]
  },
  {
   "cell_type": "code",
   "execution_count": 6,
   "id": "87adf4a4",
   "metadata": {
    "execution": {
     "iopub.execute_input": "2021-11-08T05:37:12.138260Z",
     "iopub.status.busy": "2021-11-08T05:37:12.137518Z",
     "iopub.status.idle": "2021-11-08T05:37:12.140657Z",
     "shell.execute_reply": "2021-11-08T05:37:12.141058Z",
     "shell.execute_reply.started": "2021-11-07T06:37:58.691925Z"
    },
    "papermill": {
     "duration": 0.031144,
     "end_time": "2021-11-08T05:37:12.141197",
     "exception": false,
     "start_time": "2021-11-08T05:37:12.110053",
     "status": "completed"
    },
    "tags": []
   },
   "outputs": [],
   "source": [
    "def get_default_device():\n",
    "    \"\"\"Pick GPU if available, else CPU\"\"\"\n",
    "    if torch.cuda.is_available():\n",
    "        return torch.device('cuda')\n",
    "    else:\n",
    "        return torch.device('cpu')\n",
    "    \n",
    "def to_device(data, device):\n",
    "    \"\"\"Move tensor(s) to chosen device\"\"\"\n",
    "    if isinstance(data, (list,tuple)):\n",
    "        return [to_device(x, device) for x in data]\n",
    "    return data.to(device, non_blocking=True)\n",
    "\n",
    "class DeviceDataLoader():\n",
    "    \"\"\"Wrap a dataloader to move data to a device\"\"\"\n",
    "    def __init__(self, dl, device):\n",
    "        self.dl = dl\n",
    "        self.device = device\n",
    "        \n",
    "    def __iter__(self):\n",
    "        \"\"\"Yield a batch of data after moving it to device\"\"\"\n",
    "        for b in self.dl: \n",
    "            yield to_device(b, self.device)\n",
    "\n",
    "    def __len__(self):\n",
    "        \"\"\"Number of batches\"\"\"\n",
    "        return len(self.dl)"
   ]
  },
  {
   "cell_type": "code",
   "execution_count": 7,
   "id": "abbaa781",
   "metadata": {
    "execution": {
     "iopub.execute_input": "2021-11-08T05:37:12.224940Z",
     "iopub.status.busy": "2021-11-08T05:37:12.222346Z",
     "iopub.status.idle": "2021-11-08T05:37:12.228398Z",
     "shell.execute_reply": "2021-11-08T05:37:12.227897Z",
     "shell.execute_reply.started": "2021-11-07T06:37:58.702162Z"
    },
    "papermill": {
     "duration": 0.067652,
     "end_time": "2021-11-08T05:37:12.228523",
     "exception": false,
     "start_time": "2021-11-08T05:37:12.160871",
     "status": "completed"
    },
    "tags": []
   },
   "outputs": [
    {
     "data": {
      "text/plain": [
       "device(type='cuda')"
      ]
     },
     "execution_count": 7,
     "metadata": {},
     "output_type": "execute_result"
    }
   ],
   "source": [
    "device = get_default_device()\n",
    "device"
   ]
  },
  {
   "cell_type": "code",
   "execution_count": 8,
   "id": "8cc1875f",
   "metadata": {
    "execution": {
     "iopub.execute_input": "2021-11-08T05:37:12.274377Z",
     "iopub.status.busy": "2021-11-08T05:37:12.273671Z",
     "iopub.status.idle": "2021-11-08T05:37:12.275893Z",
     "shell.execute_reply": "2021-11-08T05:37:12.276299Z",
     "shell.execute_reply.started": "2021-11-07T06:37:58.761800Z"
    },
    "papermill": {
     "duration": 0.026774,
     "end_time": "2021-11-08T05:37:12.276420",
     "exception": false,
     "start_time": "2021-11-08T05:37:12.249646",
     "status": "completed"
    },
    "tags": []
   },
   "outputs": [],
   "source": [
    "trainloader = DeviceDataLoader(trainloader, device)\n",
    "testloader = DeviceDataLoader(testloader, device)"
   ]
  },
  {
   "cell_type": "markdown",
   "id": "98679c22",
   "metadata": {
    "papermill": {
     "duration": 0.020164,
     "end_time": "2021-11-08T05:37:12.316755",
     "exception": false,
     "start_time": "2021-11-08T05:37:12.296591",
     "status": "completed"
    },
    "tags": []
   },
   "source": [
    "# Layer Setup"
   ]
  },
  {
   "cell_type": "code",
   "execution_count": 9,
   "id": "903be74a",
   "metadata": {
    "execution": {
     "iopub.execute_input": "2021-11-08T05:37:12.375902Z",
     "iopub.status.busy": "2021-11-08T05:37:12.375309Z",
     "iopub.status.idle": "2021-11-08T05:37:15.437581Z",
     "shell.execute_reply": "2021-11-08T05:37:15.437094Z",
     "shell.execute_reply.started": "2021-11-07T06:37:58.773765Z"
    },
    "papermill": {
     "duration": 3.100605,
     "end_time": "2021-11-08T05:37:15.437730",
     "exception": false,
     "start_time": "2021-11-08T05:37:12.337125",
     "status": "completed"
    },
    "tags": []
   },
   "outputs": [
    {
     "data": {
      "text/plain": [
       "ResNet9(\n",
       "  (conv1): Sequential(\n",
       "    (0): Conv2d(3, 64, kernel_size=(3, 3), stride=(1, 1), padding=(1, 1))\n",
       "    (1): BatchNorm2d(64, eps=1e-05, momentum=0.1, affine=True, track_running_stats=True)\n",
       "    (2): ReLU(inplace=True)\n",
       "  )\n",
       "  (conv2): Sequential(\n",
       "    (0): Conv2d(64, 128, kernel_size=(3, 3), stride=(1, 1), padding=(1, 1))\n",
       "    (1): BatchNorm2d(128, eps=1e-05, momentum=0.1, affine=True, track_running_stats=True)\n",
       "    (2): ReLU(inplace=True)\n",
       "    (3): MaxPool2d(kernel_size=2, stride=2, padding=0, dilation=1, ceil_mode=False)\n",
       "  )\n",
       "  (res1): Sequential(\n",
       "    (0): Sequential(\n",
       "      (0): Conv2d(128, 128, kernel_size=(3, 3), stride=(1, 1), padding=(1, 1))\n",
       "      (1): BatchNorm2d(128, eps=1e-05, momentum=0.1, affine=True, track_running_stats=True)\n",
       "      (2): ReLU(inplace=True)\n",
       "    )\n",
       "    (1): Sequential(\n",
       "      (0): Conv2d(128, 128, kernel_size=(3, 3), stride=(1, 1), padding=(1, 1))\n",
       "      (1): BatchNorm2d(128, eps=1e-05, momentum=0.1, affine=True, track_running_stats=True)\n",
       "      (2): ReLU(inplace=True)\n",
       "    )\n",
       "  )\n",
       "  (conv3): Sequential(\n",
       "    (0): Conv2d(128, 256, kernel_size=(3, 3), stride=(1, 1), padding=(1, 1))\n",
       "    (1): BatchNorm2d(256, eps=1e-05, momentum=0.1, affine=True, track_running_stats=True)\n",
       "    (2): ReLU(inplace=True)\n",
       "    (3): MaxPool2d(kernel_size=2, stride=2, padding=0, dilation=1, ceil_mode=False)\n",
       "  )\n",
       "  (conv4): Sequential(\n",
       "    (0): Conv2d(256, 512, kernel_size=(3, 3), stride=(1, 1), padding=(1, 1))\n",
       "    (1): BatchNorm2d(512, eps=1e-05, momentum=0.1, affine=True, track_running_stats=True)\n",
       "    (2): ReLU(inplace=True)\n",
       "    (3): MaxPool2d(kernel_size=2, stride=2, padding=0, dilation=1, ceil_mode=False)\n",
       "  )\n",
       "  (res2): Sequential(\n",
       "    (0): Sequential(\n",
       "      (0): Conv2d(512, 512, kernel_size=(3, 3), stride=(1, 1), padding=(1, 1))\n",
       "      (1): BatchNorm2d(512, eps=1e-05, momentum=0.1, affine=True, track_running_stats=True)\n",
       "      (2): ReLU(inplace=True)\n",
       "    )\n",
       "    (1): Sequential(\n",
       "      (0): Conv2d(512, 512, kernel_size=(3, 3), stride=(1, 1), padding=(1, 1))\n",
       "      (1): BatchNorm2d(512, eps=1e-05, momentum=0.1, affine=True, track_running_stats=True)\n",
       "      (2): ReLU(inplace=True)\n",
       "    )\n",
       "  )\n",
       "  (conv5): Sequential(\n",
       "    (0): Conv2d(512, 1028, kernel_size=(3, 3), stride=(1, 1), padding=(1, 1))\n",
       "    (1): BatchNorm2d(1028, eps=1e-05, momentum=0.1, affine=True, track_running_stats=True)\n",
       "    (2): ReLU(inplace=True)\n",
       "    (3): MaxPool2d(kernel_size=2, stride=2, padding=0, dilation=1, ceil_mode=False)\n",
       "  )\n",
       "  (res3): Sequential(\n",
       "    (0): Sequential(\n",
       "      (0): Conv2d(1028, 1028, kernel_size=(3, 3), stride=(1, 1), padding=(1, 1))\n",
       "      (1): BatchNorm2d(1028, eps=1e-05, momentum=0.1, affine=True, track_running_stats=True)\n",
       "      (2): ReLU(inplace=True)\n",
       "    )\n",
       "    (1): Sequential(\n",
       "      (0): Conv2d(1028, 1028, kernel_size=(3, 3), stride=(1, 1), padding=(1, 1))\n",
       "      (1): BatchNorm2d(1028, eps=1e-05, momentum=0.1, affine=True, track_running_stats=True)\n",
       "      (2): ReLU(inplace=True)\n",
       "    )\n",
       "  )\n",
       "  (classifier): Sequential(\n",
       "    (0): MaxPool2d(kernel_size=2, stride=2, padding=0, dilation=1, ceil_mode=False)\n",
       "    (1): Flatten(start_dim=1, end_dim=-1)\n",
       "    (2): Linear(in_features=1028, out_features=100, bias=True)\n",
       "  )\n",
       ")"
      ]
     },
     "execution_count": 9,
     "metadata": {},
     "output_type": "execute_result"
    }
   ],
   "source": [
    "def accuracy(outputs, labels):\n",
    "    _, preds = torch.max(outputs, dim=1)\n",
    "    return torch.tensor(torch.sum(preds == labels).item() / len(preds))\n",
    "\n",
    "class ImageClassificationBase(nn.Module):\n",
    "    def training_step(self, batch):\n",
    "        images, labels = batch \n",
    "        out = self(images)                  # Generate predictions\n",
    "        loss = F.cross_entropy(out, labels) # Calculate loss\n",
    "        return loss\n",
    "    \n",
    "    def validation_step(self, batch):\n",
    "        images, labels = batch \n",
    "        out = self(images)                    # Generate predictions\n",
    "        loss = F.cross_entropy(out, labels)   # Calculate loss\n",
    "        acc = accuracy(out, labels)           # Calculate accuracy\n",
    "        return {'val_loss': loss.detach(), 'val_acc': acc}\n",
    "        \n",
    "    def validation_epoch_end(self, outputs):\n",
    "        batch_losses = [x['val_loss'] for x in outputs]\n",
    "        epoch_loss = torch.stack(batch_losses).mean()   # Combine losses\n",
    "        batch_accs = [x['val_acc'] for x in outputs]\n",
    "        epoch_acc = torch.stack(batch_accs).mean()      # Combine accuracies\n",
    "        return {'val_loss': epoch_loss.item(), 'val_acc': epoch_acc.item()}\n",
    "    \n",
    "    def epoch_end(self, epoch, result):\n",
    "        print(\"Epoch [{}], last_lr: {:.5f}, train_loss: {:.4f}, val_loss: {:.4f}, val_acc: {:.4f}\".format(\n",
    "            epoch, result['lrs'][-1], result['train_loss'], result['val_loss'], result['val_acc']))\n",
    "        \n",
    "def conv_block(in_channels, out_channels, pool=False):\n",
    "    layers = [nn.Conv2d(in_channels, out_channels, kernel_size=3, padding=1), \n",
    "              nn.BatchNorm2d(out_channels), \n",
    "              nn.ReLU(inplace=True)]\n",
    "    if pool: layers.append(nn.MaxPool2d(2))\n",
    "    return nn.Sequential(*layers)\n",
    "\n",
    "class ResNet9(ImageClassificationBase):\n",
    "    def __init__(self, in_channels, num_classes):\n",
    "        super().__init__()\n",
    "        \n",
    "        self.conv1 = conv_block(in_channels, 64)\n",
    "        self.conv2 = conv_block(64, 128, pool=True) \n",
    "        self.res1 = nn.Sequential(conv_block(128, 128), conv_block(128, 128)) \n",
    "        \n",
    "        self.conv3 = conv_block(128, 256, pool=True)\n",
    "        self.conv4 = conv_block(256, 512, pool=True) \n",
    "        self.res2 = nn.Sequential(conv_block(512, 512), conv_block(512, 512)) \n",
    "        self.conv5 = conv_block(512, 1028, pool=True) \n",
    "        self.res3 = nn.Sequential(conv_block(1028, 1028), conv_block(1028, 1028))  \n",
    "        \n",
    "        self.classifier = nn.Sequential(nn.MaxPool2d(2), # 1028 x 1 x 1\n",
    "                                        nn.Flatten(), # 1028 \n",
    "                                        nn.Linear(1028, num_classes)) # 1028 -> 100\n",
    "        \n",
    "    def forward(self, xb):\n",
    "        out = self.conv1(xb)\n",
    "        out = self.conv2(out)\n",
    "        out = self.res1(out) + out\n",
    "        out = self.conv3(out)\n",
    "        out = self.conv4(out)\n",
    "        out = self.res2(out) + out\n",
    "        out = self.conv5(out)\n",
    "        out = self.res3(out) + out\n",
    "        out = self.classifier(out)\n",
    "        return out\n",
    "\n",
    "model = to_device(ResNet9(3, 100), device)\n",
    "model"
   ]
  },
  {
   "cell_type": "markdown",
   "id": "03b6be28",
   "metadata": {
    "papermill": {
     "duration": 0.023609,
     "end_time": "2021-11-08T05:37:15.485068",
     "exception": false,
     "start_time": "2021-11-08T05:37:15.461459",
     "status": "completed"
    },
    "tags": []
   },
   "source": [
    "# Training Setup"
   ]
  },
  {
   "cell_type": "code",
   "execution_count": 10,
   "id": "4d0b9aca",
   "metadata": {
    "execution": {
     "iopub.execute_input": "2021-11-08T05:37:15.539514Z",
     "iopub.status.busy": "2021-11-08T05:37:15.538730Z",
     "iopub.status.idle": "2021-11-08T05:37:15.541153Z",
     "shell.execute_reply": "2021-11-08T05:37:15.540696Z",
     "shell.execute_reply.started": "2021-11-07T06:38:01.993486Z"
    },
    "papermill": {
     "duration": 0.034183,
     "end_time": "2021-11-08T05:37:15.541264",
     "exception": false,
     "start_time": "2021-11-08T05:37:15.507081",
     "status": "completed"
    },
    "tags": []
   },
   "outputs": [],
   "source": [
    "@torch.no_grad()\n",
    "def evaluate(model, test_loader):\n",
    "    model.eval()\n",
    "    outputs = [model.validation_step(batch) for batch in test_loader]\n",
    "    return model.validation_epoch_end(outputs)\n",
    "\n",
    "def get_lr(optimizer):\n",
    "    for param_group in optimizer.param_groups:\n",
    "        return param_group['lr']\n",
    "\n",
    "def fit_one_cycle(epochs, max_lr, model, train_loader, test_loader, \n",
    "                  weight_decay=0, grad_clip=None, opt_func=torch.optim.SGD):\n",
    "    torch.cuda.empty_cache()\n",
    "    history = []\n",
    "    \n",
    "    # Set up cutom optimizer with weight decay\n",
    "    optimizer = opt_func(model.parameters(), max_lr, weight_decay=weight_decay)\n",
    "    # Set up one-cycle learning rate scheduler\n",
    "    sched = torch.optim.lr_scheduler.OneCycleLR(optimizer, max_lr, epochs=epochs, \n",
    "                                                steps_per_epoch=len(train_loader))\n",
    "    \n",
    "    for epoch in range(epochs):\n",
    "        # Training Phase \n",
    "        model.train()\n",
    "        train_losses = []\n",
    "        lrs = []\n",
    "        for batch in train_loader:\n",
    "            loss = model.training_step(batch)\n",
    "            train_losses.append(loss)\n",
    "            loss.backward()\n",
    "            \n",
    "            # Gradient clipping\n",
    "            if grad_clip: \n",
    "                nn.utils.clip_grad_value_(model.parameters(), grad_clip)\n",
    "            \n",
    "            optimizer.step()\n",
    "            optimizer.zero_grad()\n",
    "            \n",
    "            # Record & update learning rate\n",
    "            lrs.append(get_lr(optimizer))\n",
    "            sched.step()\n",
    "        \n",
    "        # Validation phase\n",
    "        result = evaluate(model, test_loader)\n",
    "        result['train_loss'] = torch.stack(train_losses).mean().item()\n",
    "        result['lrs'] = lrs\n",
    "        model.epoch_end(epoch, result)\n",
    "        history.append(result)\n",
    "    return history"
   ]
  },
  {
   "cell_type": "code",
   "execution_count": 11,
   "id": "44715cb8",
   "metadata": {
    "execution": {
     "iopub.execute_input": "2021-11-08T05:37:15.585756Z",
     "iopub.status.busy": "2021-11-08T05:37:15.584983Z",
     "iopub.status.idle": "2021-11-08T05:37:23.415131Z",
     "shell.execute_reply": "2021-11-08T05:37:23.414649Z",
     "shell.execute_reply.started": "2021-11-07T06:38:02.007761Z"
    },
    "papermill": {
     "duration": 7.853173,
     "end_time": "2021-11-08T05:37:23.415280",
     "exception": false,
     "start_time": "2021-11-08T05:37:15.562107",
     "status": "completed"
    },
    "tags": []
   },
   "outputs": [
    {
     "data": {
      "text/plain": [
       "[{'val_loss': 4.605705261230469, 'val_acc': 0.010096153244376183}]"
      ]
     },
     "execution_count": 11,
     "metadata": {},
     "output_type": "execute_result"
    }
   ],
   "source": [
    "# Initial evaluation\n",
    "history = [evaluate(model, testloader)]\n",
    "history"
   ]
  },
  {
   "cell_type": "code",
   "execution_count": 12,
   "id": "9948ad60",
   "metadata": {
    "execution": {
     "iopub.execute_input": "2021-11-08T05:37:23.484759Z",
     "iopub.status.busy": "2021-11-08T05:37:23.483814Z",
     "iopub.status.idle": "2021-11-08T05:50:52.067210Z",
     "shell.execute_reply": "2021-11-08T05:50:52.067862Z",
     "shell.execute_reply.started": "2021-11-07T06:38:10.026513Z"
    },
    "papermill": {
     "duration": 808.631348,
     "end_time": "2021-11-08T05:50:52.068105",
     "exception": false,
     "start_time": "2021-11-08T05:37:23.436757",
     "status": "completed"
    },
    "tags": []
   },
   "outputs": [
    {
     "name": "stdout",
     "output_type": "stream",
     "text": [
      "Epoch [0], last_lr: 0.00007, train_loss: 3.6619, val_loss: 3.0757, val_acc: 0.2520\n",
      "Epoch [1], last_lr: 0.00015, train_loss: 2.8860, val_loss: 2.7012, val_acc: 0.3170\n",
      "Epoch [2], last_lr: 0.00028, train_loss: 2.5260, val_loss: 2.6477, val_acc: 0.3430\n",
      "Epoch [3], last_lr: 0.00044, train_loss: 2.2810, val_loss: 2.4957, val_acc: 0.3585\n",
      "Epoch [4], last_lr: 0.00060, train_loss: 2.0970, val_loss: 2.9150, val_acc: 0.3137\n",
      "Epoch [5], last_lr: 0.00076, train_loss: 1.9418, val_loss: 2.1820, val_acc: 0.4221\n",
      "Epoch [6], last_lr: 0.00089, train_loss: 1.7714, val_loss: 1.9299, val_acc: 0.4779\n",
      "Epoch [7], last_lr: 0.00097, train_loss: 1.6436, val_loss: 1.9108, val_acc: 0.4883\n",
      "Epoch [8], last_lr: 0.00100, train_loss: 1.5132, val_loss: 2.0913, val_acc: 0.4553\n",
      "Epoch [9], last_lr: 0.00099, train_loss: 1.3874, val_loss: 1.7790, val_acc: 0.5236\n",
      "Epoch [10], last_lr: 0.00098, train_loss: 1.3038, val_loss: 1.9270, val_acc: 0.4924\n",
      "Epoch [11], last_lr: 0.00095, train_loss: 1.2014, val_loss: 1.5758, val_acc: 0.5613\n",
      "Epoch [12], last_lr: 0.00091, train_loss: 1.1296, val_loss: 1.6564, val_acc: 0.5515\n",
      "Epoch [13], last_lr: 0.00087, train_loss: 1.0455, val_loss: 1.4591, val_acc: 0.5928\n",
      "Epoch [14], last_lr: 0.00081, train_loss: 0.9751, val_loss: 1.6516, val_acc: 0.5576\n",
      "Epoch [15], last_lr: 0.00075, train_loss: 0.9030, val_loss: 1.4815, val_acc: 0.5910\n",
      "Epoch [16], last_lr: 0.00068, train_loss: 0.8246, val_loss: 1.4758, val_acc: 0.6036\n",
      "Epoch [17], last_lr: 0.00061, train_loss: 0.7517, val_loss: 1.5117, val_acc: 0.5983\n",
      "Epoch [18], last_lr: 0.00054, train_loss: 0.6659, val_loss: 1.3364, val_acc: 0.6385\n",
      "Epoch [19], last_lr: 0.00046, train_loss: 0.5901, val_loss: 1.2229, val_acc: 0.6657\n",
      "Epoch [20], last_lr: 0.00039, train_loss: 0.5011, val_loss: 1.2277, val_acc: 0.6665\n",
      "Epoch [21], last_lr: 0.00032, train_loss: 0.4092, val_loss: 1.1900, val_acc: 0.6794\n",
      "Epoch [22], last_lr: 0.00025, train_loss: 0.3210, val_loss: 1.0968, val_acc: 0.7024\n",
      "Epoch [23], last_lr: 0.00019, train_loss: 0.2375, val_loss: 1.0951, val_acc: 0.7084\n",
      "Epoch [24], last_lr: 0.00013, train_loss: 0.1695, val_loss: 1.0383, val_acc: 0.7214\n",
      "Epoch [25], last_lr: 0.00009, train_loss: 0.1162, val_loss: 1.0140, val_acc: 0.7337\n",
      "Epoch [26], last_lr: 0.00005, train_loss: 0.0800, val_loss: 1.0133, val_acc: 0.7369\n",
      "Epoch [27], last_lr: 0.00002, train_loss: 0.0591, val_loss: 1.0045, val_acc: 0.7409\n",
      "Epoch [28], last_lr: 0.00001, train_loss: 0.0483, val_loss: 1.0023, val_acc: 0.7435\n",
      "Epoch [29], last_lr: 0.00000, train_loss: 0.0458, val_loss: 1.0011, val_acc: 0.7437\n"
     ]
    }
   ],
   "source": [
    "# Fitting the first 1/4 epochs\n",
    "current_time=time.time()\n",
    "history += fit_one_cycle(int(epochs/4), max_lr, model, trainloader, testloader, \n",
    "                             grad_clip=grad_clip, \n",
    "                             weight_decay=weight_decay, \n",
    "                             opt_func=opt_func)"
   ]
  },
  {
   "cell_type": "code",
   "execution_count": 13,
   "id": "b6dbaba5",
   "metadata": {
    "execution": {
     "iopub.execute_input": "2021-11-08T05:50:52.157585Z",
     "iopub.status.busy": "2021-11-08T05:50:52.156771Z",
     "iopub.status.idle": "2021-11-08T06:04:16.198631Z",
     "shell.execute_reply": "2021-11-08T06:04:16.199206Z",
     "shell.execute_reply.started": "2021-11-07T06:51:49.699732Z"
    },
    "papermill": {
     "duration": 804.101642,
     "end_time": "2021-11-08T06:04:16.199412",
     "exception": false,
     "start_time": "2021-11-08T05:50:52.097770",
     "status": "completed"
    },
    "tags": []
   },
   "outputs": [
    {
     "name": "stdout",
     "output_type": "stream",
     "text": [
      "Epoch [0], last_lr: 0.00001, train_loss: 0.0465, val_loss: 1.0009, val_acc: 0.7440\n",
      "Epoch [1], last_lr: 0.00002, train_loss: 0.0435, val_loss: 1.0071, val_acc: 0.7437\n",
      "Epoch [2], last_lr: 0.00003, train_loss: 0.0428, val_loss: 1.0224, val_acc: 0.7394\n",
      "Epoch [3], last_lr: 0.00004, train_loss: 0.0460, val_loss: 1.0675, val_acc: 0.7348\n",
      "Epoch [4], last_lr: 0.00006, train_loss: 0.0541, val_loss: 1.0845, val_acc: 0.7274\n",
      "Epoch [5], last_lr: 0.00008, train_loss: 0.0649, val_loss: 1.1619, val_acc: 0.7152\n",
      "Epoch [6], last_lr: 0.00009, train_loss: 0.0801, val_loss: 1.1516, val_acc: 0.7140\n",
      "Epoch [7], last_lr: 0.00010, train_loss: 0.0958, val_loss: 1.2090, val_acc: 0.7064\n",
      "Epoch [8], last_lr: 0.00010, train_loss: 0.0948, val_loss: 1.2031, val_acc: 0.7037\n",
      "Epoch [9], last_lr: 0.00010, train_loss: 0.0898, val_loss: 1.1971, val_acc: 0.7086\n",
      "Epoch [10], last_lr: 0.00010, train_loss: 0.0773, val_loss: 1.1502, val_acc: 0.7125\n",
      "Epoch [11], last_lr: 0.00010, train_loss: 0.0702, val_loss: 1.1627, val_acc: 0.7108\n",
      "Epoch [12], last_lr: 0.00009, train_loss: 0.0671, val_loss: 1.1751, val_acc: 0.7113\n",
      "Epoch [13], last_lr: 0.00009, train_loss: 0.0603, val_loss: 1.1689, val_acc: 0.7144\n",
      "Epoch [14], last_lr: 0.00008, train_loss: 0.0487, val_loss: 1.1610, val_acc: 0.7186\n",
      "Epoch [15], last_lr: 0.00008, train_loss: 0.0415, val_loss: 1.1336, val_acc: 0.7239\n",
      "Epoch [16], last_lr: 0.00007, train_loss: 0.0351, val_loss: 1.1463, val_acc: 0.7244\n",
      "Epoch [17], last_lr: 0.00006, train_loss: 0.0281, val_loss: 1.1132, val_acc: 0.7298\n",
      "Epoch [18], last_lr: 0.00005, train_loss: 0.0252, val_loss: 1.1209, val_acc: 0.7296\n",
      "Epoch [19], last_lr: 0.00005, train_loss: 0.0206, val_loss: 1.0908, val_acc: 0.7388\n",
      "Epoch [20], last_lr: 0.00004, train_loss: 0.0176, val_loss: 1.0841, val_acc: 0.7425\n",
      "Epoch [21], last_lr: 0.00003, train_loss: 0.0146, val_loss: 1.0871, val_acc: 0.7412\n",
      "Epoch [22], last_lr: 0.00003, train_loss: 0.0124, val_loss: 1.0808, val_acc: 0.7414\n",
      "Epoch [23], last_lr: 0.00002, train_loss: 0.0106, val_loss: 1.0631, val_acc: 0.7427\n",
      "Epoch [24], last_lr: 0.00001, train_loss: 0.0103, val_loss: 1.0600, val_acc: 0.7458\n",
      "Epoch [25], last_lr: 0.00001, train_loss: 0.0098, val_loss: 1.0575, val_acc: 0.7449\n",
      "Epoch [26], last_lr: 0.00000, train_loss: 0.0088, val_loss: 1.0552, val_acc: 0.7456\n",
      "Epoch [27], last_lr: 0.00000, train_loss: 0.0083, val_loss: 1.0556, val_acc: 0.7464\n",
      "Epoch [28], last_lr: 0.00000, train_loss: 0.0079, val_loss: 1.0553, val_acc: 0.7474\n",
      "Epoch [29], last_lr: 0.00000, train_loss: 0.0084, val_loss: 1.0567, val_acc: 0.7468\n"
     ]
    }
   ],
   "source": [
    "# Fitting the second 1/4 epochs\n",
    "history += fit_one_cycle(int(epochs/4), max_lr/10, model, trainloader, testloader, \n",
    "                             grad_clip=grad_clip, \n",
    "                             weight_decay=weight_decay, \n",
    "                             opt_func=opt_func)"
   ]
  },
  {
   "cell_type": "code",
   "execution_count": 14,
   "id": "c41c3d24",
   "metadata": {
    "execution": {
     "iopub.execute_input": "2021-11-08T06:04:16.317498Z",
     "iopub.status.busy": "2021-11-08T06:04:16.279475Z",
     "iopub.status.idle": "2021-11-08T06:10:59.595181Z",
     "shell.execute_reply": "2021-11-08T06:10:59.593342Z",
     "shell.execute_reply.started": "2021-11-07T07:05:28.571321Z"
    },
    "papermill": {
     "duration": 403.358053,
     "end_time": "2021-11-08T06:10:59.595339",
     "exception": false,
     "start_time": "2021-11-08T06:04:16.237286",
     "status": "completed"
    },
    "tags": []
   },
   "outputs": [
    {
     "name": "stdout",
     "output_type": "stream",
     "text": [
      "Epoch [0], last_lr: 0.00000, train_loss: 0.0081, val_loss: 1.0565, val_acc: 0.7458\n",
      "Epoch [1], last_lr: 0.00000, train_loss: 0.0080, val_loss: 1.0589, val_acc: 0.7469\n",
      "Epoch [2], last_lr: 0.00001, train_loss: 0.0084, val_loss: 1.0593, val_acc: 0.7437\n",
      "Epoch [3], last_lr: 0.00001, train_loss: 0.0088, val_loss: 1.0576, val_acc: 0.7437\n",
      "Epoch [4], last_lr: 0.00001, train_loss: 0.0090, val_loss: 1.0586, val_acc: 0.7427\n",
      "Epoch [5], last_lr: 0.00001, train_loss: 0.0091, val_loss: 1.0568, val_acc: 0.7427\n",
      "Epoch [6], last_lr: 0.00001, train_loss: 0.0088, val_loss: 1.0578, val_acc: 0.7438\n",
      "Epoch [7], last_lr: 0.00001, train_loss: 0.0086, val_loss: 1.0539, val_acc: 0.7445\n",
      "Epoch [8], last_lr: 0.00001, train_loss: 0.0081, val_loss: 1.0510, val_acc: 0.7450\n",
      "Epoch [9], last_lr: 0.00000, train_loss: 0.0076, val_loss: 1.0495, val_acc: 0.7429\n",
      "Epoch [10], last_lr: 0.00000, train_loss: 0.0074, val_loss: 1.0495, val_acc: 0.7448\n",
      "Epoch [11], last_lr: 0.00000, train_loss: 0.0073, val_loss: 1.0474, val_acc: 0.7455\n",
      "Epoch [12], last_lr: 0.00000, train_loss: 0.0068, val_loss: 1.0468, val_acc: 0.7447\n",
      "Epoch [13], last_lr: 0.00000, train_loss: 0.0068, val_loss: 1.0472, val_acc: 0.7456\n",
      "Epoch [14], last_lr: 0.00000, train_loss: 0.0069, val_loss: 1.0462, val_acc: 0.7450\n"
     ]
    }
   ],
   "source": [
    "\n",
    "history += fit_one_cycle(int(epochs/8), max_lr/100, model, trainloader, testloader, \n",
    "                             grad_clip=grad_clip, \n",
    "                             weight_decay=weight_decay, \n",
    "                             opt_func=opt_func)"
   ]
  },
  {
   "cell_type": "code",
   "execution_count": 15,
   "id": "dd641cbe",
   "metadata": {
    "execution": {
     "iopub.execute_input": "2021-11-08T06:10:59.713971Z",
     "iopub.status.busy": "2021-11-08T06:10:59.712624Z",
     "iopub.status.idle": "2021-11-08T06:17:42.943835Z",
     "shell.execute_reply": "2021-11-08T06:17:42.944477Z",
     "shell.execute_reply.started": "2021-11-07T07:12:17.951776Z"
    },
    "papermill": {
     "duration": 403.308229,
     "end_time": "2021-11-08T06:17:42.944710",
     "exception": false,
     "start_time": "2021-11-08T06:10:59.636481",
     "status": "completed"
    },
    "tags": []
   },
   "outputs": [
    {
     "name": "stdout",
     "output_type": "stream",
     "text": [
      "Epoch [0], last_lr: 0.00000, train_loss: 0.0068, val_loss: 1.0468, val_acc: 0.7467\n",
      "Epoch [1], last_lr: 0.00000, train_loss: 0.0068, val_loss: 1.0469, val_acc: 0.7450\n",
      "Epoch [2], last_lr: 0.00000, train_loss: 0.0069, val_loss: 1.0455, val_acc: 0.7445\n",
      "Epoch [3], last_lr: 0.00000, train_loss: 0.0069, val_loss: 1.0453, val_acc: 0.7441\n",
      "Epoch [4], last_lr: 0.00000, train_loss: 0.0066, val_loss: 1.0466, val_acc: 0.7463\n",
      "Epoch [5], last_lr: 0.00000, train_loss: 0.0068, val_loss: 1.0465, val_acc: 0.7459\n",
      "Epoch [6], last_lr: 0.00000, train_loss: 0.0066, val_loss: 1.0451, val_acc: 0.7456\n",
      "Epoch [7], last_lr: 0.00000, train_loss: 0.0066, val_loss: 1.0460, val_acc: 0.7458\n",
      "Epoch [8], last_lr: 0.00000, train_loss: 0.0068, val_loss: 1.0438, val_acc: 0.7450\n",
      "Epoch [9], last_lr: 0.00000, train_loss: 0.0065, val_loss: 1.0454, val_acc: 0.7452\n",
      "Epoch [10], last_lr: 0.00000, train_loss: 0.0070, val_loss: 1.0452, val_acc: 0.7452\n",
      "Epoch [11], last_lr: 0.00000, train_loss: 0.0066, val_loss: 1.0444, val_acc: 0.7464\n",
      "Epoch [12], last_lr: 0.00000, train_loss: 0.0066, val_loss: 1.0449, val_acc: 0.7468\n",
      "Epoch [13], last_lr: 0.00000, train_loss: 0.0064, val_loss: 1.0428, val_acc: 0.7452\n",
      "Epoch [14], last_lr: 0.00000, train_loss: 0.0066, val_loss: 1.0431, val_acc: 0.7456\n"
     ]
    }
   ],
   "source": [
    "\n",
    "history += fit_one_cycle(int(epochs/8), max_lr/1000, model, trainloader, testloader, \n",
    "                             grad_clip=grad_clip, \n",
    "                             weight_decay=weight_decay, \n",
    "                             opt_func=opt_func)"
   ]
  },
  {
   "cell_type": "code",
   "execution_count": 16,
   "id": "72713d41",
   "metadata": {
    "execution": {
     "iopub.execute_input": "2021-11-08T06:17:43.070883Z",
     "iopub.status.busy": "2021-11-08T06:17:43.070035Z",
     "iopub.status.idle": "2021-11-08T06:31:08.574816Z",
     "shell.execute_reply": "2021-11-08T06:31:08.575248Z",
     "shell.execute_reply.started": "2021-11-07T07:19:03.439737Z"
    },
    "papermill": {
     "duration": 805.58586,
     "end_time": "2021-11-08T06:31:08.575401",
     "exception": false,
     "start_time": "2021-11-08T06:17:42.989541",
     "status": "completed"
    },
    "tags": []
   },
   "outputs": [
    {
     "name": "stdout",
     "output_type": "stream",
     "text": [
      "Epoch [0], last_lr: 0.00000, train_loss: 0.0064, val_loss: 1.0451, val_acc: 0.7466\n",
      "Epoch [1], last_lr: 0.00000, train_loss: 0.0065, val_loss: 1.0460, val_acc: 0.7448\n",
      "Epoch [2], last_lr: 0.00000, train_loss: 0.0065, val_loss: 1.0439, val_acc: 0.7462\n",
      "Epoch [3], last_lr: 0.00000, train_loss: 0.0070, val_loss: 1.0438, val_acc: 0.7461\n",
      "Epoch [4], last_lr: 0.00001, train_loss: 0.0075, val_loss: 1.0407, val_acc: 0.7441\n",
      "Epoch [5], last_lr: 0.00001, train_loss: 0.0077, val_loss: 1.0430, val_acc: 0.7451\n",
      "Epoch [6], last_lr: 0.00001, train_loss: 0.0083, val_loss: 1.0440, val_acc: 0.7432\n",
      "Epoch [7], last_lr: 0.00001, train_loss: 0.0082, val_loss: 1.0459, val_acc: 0.7448\n",
      "Epoch [8], last_lr: 0.00001, train_loss: 0.0091, val_loss: 1.0523, val_acc: 0.7441\n",
      "Epoch [9], last_lr: 0.00001, train_loss: 0.0087, val_loss: 1.0414, val_acc: 0.7429\n",
      "Epoch [10], last_lr: 0.00001, train_loss: 0.0087, val_loss: 1.0444, val_acc: 0.7428\n",
      "Epoch [11], last_lr: 0.00001, train_loss: 0.0086, val_loss: 1.0462, val_acc: 0.7430\n",
      "Epoch [12], last_lr: 0.00001, train_loss: 0.0080, val_loss: 1.0340, val_acc: 0.7440\n",
      "Epoch [13], last_lr: 0.00001, train_loss: 0.0084, val_loss: 1.0390, val_acc: 0.7444\n",
      "Epoch [14], last_lr: 0.00001, train_loss: 0.0082, val_loss: 1.0334, val_acc: 0.7438\n",
      "Epoch [15], last_lr: 0.00001, train_loss: 0.0081, val_loss: 1.0383, val_acc: 0.7462\n",
      "Epoch [16], last_lr: 0.00001, train_loss: 0.0081, val_loss: 1.0370, val_acc: 0.7467\n",
      "Epoch [17], last_lr: 0.00001, train_loss: 0.0075, val_loss: 1.0343, val_acc: 0.7465\n",
      "Epoch [18], last_lr: 0.00001, train_loss: 0.0074, val_loss: 1.0288, val_acc: 0.7462\n",
      "Epoch [19], last_lr: 0.00000, train_loss: 0.0075, val_loss: 1.0276, val_acc: 0.7482\n",
      "Epoch [20], last_lr: 0.00000, train_loss: 0.0070, val_loss: 1.0316, val_acc: 0.7446\n",
      "Epoch [21], last_lr: 0.00000, train_loss: 0.0071, val_loss: 1.0299, val_acc: 0.7462\n",
      "Epoch [22], last_lr: 0.00000, train_loss: 0.0070, val_loss: 1.0304, val_acc: 0.7477\n",
      "Epoch [23], last_lr: 0.00000, train_loss: 0.0069, val_loss: 1.0283, val_acc: 0.7463\n",
      "Epoch [24], last_lr: 0.00000, train_loss: 0.0067, val_loss: 1.0272, val_acc: 0.7465\n",
      "Epoch [25], last_lr: 0.00000, train_loss: 0.0065, val_loss: 1.0248, val_acc: 0.7469\n",
      "Epoch [26], last_lr: 0.00000, train_loss: 0.0066, val_loss: 1.0275, val_acc: 0.7466\n",
      "Epoch [27], last_lr: 0.00000, train_loss: 0.0063, val_loss: 1.0265, val_acc: 0.7472\n",
      "Epoch [28], last_lr: 0.00000, train_loss: 0.0065, val_loss: 1.0265, val_acc: 0.7464\n",
      "Epoch [29], last_lr: 0.00000, train_loss: 0.0063, val_loss: 1.0259, val_acc: 0.7459\n",
      "Training time: 5353.91 s\n"
     ]
    }
   ],
   "source": [
    "\n",
    "history += fit_one_cycle(int(epochs/4), max_lr/100, model, trainloader, testloader, \n",
    "                             grad_clip=grad_clip, \n",
    "                             weight_decay=weight_decay, \n",
    "                             opt_func=opt_func)\n",
    "# Print training time\n",
    "print('Training time: {:.2f} s'.format(time.time() - current_time))"
   ]
  },
  {
   "cell_type": "markdown",
   "id": "6dc4c902",
   "metadata": {
    "papermill": {
     "duration": 0.051367,
     "end_time": "2021-11-08T06:31:08.677385",
     "exception": false,
     "start_time": "2021-11-08T06:31:08.626018",
     "status": "completed"
    },
    "tags": []
   },
   "source": [
    "# Prediction"
   ]
  },
  {
   "cell_type": "code",
   "execution_count": 17,
   "id": "309f11ae",
   "metadata": {
    "execution": {
     "iopub.execute_input": "2021-11-08T06:31:08.786383Z",
     "iopub.status.busy": "2021-11-08T06:31:08.784820Z",
     "iopub.status.idle": "2021-11-08T06:31:11.250507Z",
     "shell.execute_reply": "2021-11-08T06:31:11.249907Z",
     "shell.execute_reply.started": "2021-11-07T07:32:43.011328Z"
    },
    "papermill": {
     "duration": 2.522105,
     "end_time": "2021-11-08T06:31:11.250708",
     "exception": false,
     "start_time": "2021-11-08T06:31:08.728603",
     "status": "completed"
    },
    "tags": []
   },
   "outputs": [
    {
     "name": "stdout",
     "output_type": "stream",
     "text": [
      "Training time: 12.60 s\n"
     ]
    }
   ],
   "source": [
    "# Collect training time and result\n",
    "current_time = time.time()\n",
    "result = evaluate(model, testloader)\n",
    "result\n",
    "print('Training time: {:.2f} s'.format(time.time() - current_time))"
   ]
  },
  {
   "cell_type": "code",
   "execution_count": 18,
   "id": "944ebb57",
   "metadata": {
    "execution": {
     "iopub.execute_input": "2021-11-08T06:31:11.360870Z",
     "iopub.status.busy": "2021-11-08T06:31:11.360362Z",
     "iopub.status.idle": "2021-11-08T06:31:11.653794Z",
     "shell.execute_reply": "2021-11-08T06:31:11.653216Z",
     "shell.execute_reply.started": "2021-11-07T07:32:45.290110Z"
    },
    "papermill": {
     "duration": 0.350336,
     "end_time": "2021-11-08T06:31:11.653984",
     "exception": false,
     "start_time": "2021-11-08T06:31:11.303648",
     "status": "completed"
    },
    "tags": []
   },
   "outputs": [],
   "source": [
    "# Saving the model to h5 file\n",
    "torch.save(model.state_dict(), 'group22_pretrained_model.h5')"
   ]
  },
  {
   "cell_type": "code",
   "execution_count": 19,
   "id": "25c307e4",
   "metadata": {
    "execution": {
     "iopub.execute_input": "2021-11-08T06:31:11.788006Z",
     "iopub.status.busy": "2021-11-08T06:31:11.786432Z",
     "iopub.status.idle": "2021-11-08T06:31:14.524650Z",
     "shell.execute_reply": "2021-11-08T06:31:14.524027Z",
     "shell.execute_reply.started": "2021-11-07T07:32:45.582093Z"
    },
    "papermill": {
     "duration": 2.809654,
     "end_time": "2021-11-08T06:31:14.524792",
     "exception": false,
     "start_time": "2021-11-08T06:31:11.715138",
     "status": "completed"
    },
    "tags": []
   },
   "outputs": [
    {
     "name": "stdout",
     "output_type": "stream",
     "text": [
      "Confusion matrix:\n",
      "[[85  0  1 ...  0  0  0]\n",
      " [ 0 89  0 ...  0  0  0]\n",
      " [ 1  1 56 ...  0  5  0]\n",
      " ...\n",
      " [ 0  0  0 ... 82  0  0]\n",
      " [ 0  1  1 ...  0 53  0]\n",
      " [ 0  0  0 ...  0  0 79]]\n",
      "              precision    recall  f1-score   support\n",
      "\n",
      "           0       0.89      0.85      0.87       100\n",
      "           1       0.81      0.89      0.85       100\n",
      "           2       0.74      0.56      0.64       100\n",
      "           3       0.73      0.65      0.69       100\n",
      "           4       0.62      0.64      0.63       100\n",
      "           5       0.80      0.77      0.79       100\n",
      "           6       0.78      0.82      0.80       100\n",
      "           7       0.75      0.77      0.76       100\n",
      "           8       0.94      0.88      0.91       100\n",
      "           9       0.84      0.84      0.84       100\n",
      "          10       0.62      0.53      0.57       100\n",
      "          11       0.54      0.57      0.55       100\n",
      "          12       0.79      0.82      0.80       100\n",
      "          13       0.70      0.69      0.69       100\n",
      "          14       0.73      0.72      0.73       100\n",
      "          15       0.74      0.77      0.75       100\n",
      "          16       0.69      0.76      0.72       100\n",
      "          17       0.90      0.83      0.86       100\n",
      "          18       0.67      0.66      0.66       100\n",
      "          19       0.75      0.65      0.70       100\n",
      "          20       0.89      0.91      0.90       100\n",
      "          21       0.80      0.92      0.86       100\n",
      "          22       0.73      0.76      0.75       100\n",
      "          23       0.80      0.81      0.81       100\n",
      "          24       0.87      0.85      0.86       100\n",
      "          25       0.72      0.63      0.67       100\n",
      "          26       0.70      0.67      0.68       100\n",
      "          27       0.68      0.66      0.67       100\n",
      "          28       0.76      0.78      0.77       100\n",
      "          29       0.72      0.70      0.71       100\n",
      "          30       0.70      0.69      0.70       100\n",
      "          31       0.74      0.72      0.73       100\n",
      "          32       0.75      0.67      0.71       100\n",
      "          33       0.71      0.64      0.67       100\n",
      "          34       0.74      0.81      0.78       100\n",
      "          35       0.52      0.56      0.54       100\n",
      "          36       0.78      0.80      0.79       100\n",
      "          37       0.70      0.78      0.74       100\n",
      "          38       0.67      0.77      0.72       100\n",
      "          39       0.89      0.86      0.87       100\n",
      "          40       0.73      0.72      0.72       100\n",
      "          41       0.90      0.85      0.88       100\n",
      "          42       0.80      0.77      0.79       100\n",
      "          43       0.81      0.82      0.82       100\n",
      "          44       0.56      0.55      0.56       100\n",
      "          45       0.61      0.63      0.62       100\n",
      "          46       0.59      0.54      0.56       100\n",
      "          47       0.65      0.75      0.69       100\n",
      "          48       0.83      0.97      0.89       100\n",
      "          49       0.82      0.87      0.84       100\n",
      "          50       0.52      0.59      0.55       100\n",
      "          51       0.76      0.78      0.77       100\n",
      "          52       0.66      0.65      0.65       100\n",
      "          53       0.80      0.92      0.86       100\n",
      "          54       0.73      0.88      0.80       100\n",
      "          55       0.48      0.50      0.49       100\n",
      "          56       0.91      0.92      0.92       100\n",
      "          57       0.78      0.75      0.77       100\n",
      "          58       0.86      0.86      0.86       100\n",
      "          59       0.72      0.66      0.69       100\n",
      "          60       0.85      0.83      0.84       100\n",
      "          61       0.73      0.66      0.69       100\n",
      "          62       0.65      0.76      0.70       100\n",
      "          63       0.72      0.76      0.74       100\n",
      "          64       0.71      0.52      0.60       100\n",
      "          65       0.70      0.61      0.65       100\n",
      "          66       0.80      0.82      0.81       100\n",
      "          67       0.69      0.67      0.68       100\n",
      "          68       0.87      0.95      0.91       100\n",
      "          69       0.86      0.83      0.84       100\n",
      "          70       0.82      0.74      0.78       100\n",
      "          71       0.78      0.82      0.80       100\n",
      "          72       0.56      0.48      0.52       100\n",
      "          73       0.61      0.61      0.61       100\n",
      "          74       0.53      0.58      0.55       100\n",
      "          75       0.87      0.90      0.89       100\n",
      "          76       0.87      0.89      0.88       100\n",
      "          77       0.73      0.66      0.69       100\n",
      "          78       0.61      0.66      0.63       100\n",
      "          79       0.72      0.83      0.77       100\n",
      "          80       0.68      0.63      0.65       100\n",
      "          81       0.71      0.75      0.73       100\n",
      "          82       0.92      0.94      0.93       100\n",
      "          83       0.71      0.70      0.70       100\n",
      "          84       0.76      0.72      0.74       100\n",
      "          85       0.84      0.84      0.84       100\n",
      "          86       0.84      0.73      0.78       100\n",
      "          87       0.75      0.86      0.80       100\n",
      "          88       0.84      0.79      0.81       100\n",
      "          89       0.87      0.90      0.88       100\n",
      "          90       0.82      0.80      0.81       100\n",
      "          91       0.80      0.82      0.81       100\n",
      "          92       0.74      0.66      0.70       100\n",
      "          93       0.66      0.64      0.65       100\n",
      "          94       0.91      0.95      0.93       100\n",
      "          95       0.73      0.72      0.73       100\n",
      "          96       0.72      0.68      0.70       100\n",
      "          97       0.81      0.82      0.82       100\n",
      "          98       0.57      0.53      0.55       100\n",
      "          99       0.76      0.79      0.77       100\n",
      "\n",
      "    accuracy                           0.74     10000\n",
      "   macro avg       0.75      0.74      0.74     10000\n",
      "weighted avg       0.75      0.74      0.74     10000\n",
      "\n",
      "F1 score: 0.743802\n",
      "Recall score: 0.744900\n",
      "Accuracy score: 0.744900\n"
     ]
    }
   ],
   "source": [
    "# Generate testing accuracy, predicted label, confusion matrix, and table for classification report\n",
    "def test_label_predictions(model, device, test_loader):\n",
    "    model.eval()\n",
    "    actuals = []\n",
    "    predictions = []\n",
    "    with torch.no_grad():\n",
    "        for data, target in test_loader:\n",
    "            data, target = data.to(device), target.to(device)\n",
    "            output = model(data)\n",
    "            prediction = output.argmax(dim=1, keepdim=True)\n",
    "            actuals.extend(target.view_as(prediction))\n",
    "            predictions.extend(prediction)\n",
    "    return [i.item() for i in actuals], [i.item() for i in predictions]\n",
    "\n",
    "y_test, y_pred = test_label_predictions(model, device, testloader)\n",
    "cm=confusion_matrix(y_test, y_pred)\n",
    "cr=classification_report(y_test, y_pred)\n",
    "fs=f1_score(y_test,y_pred,average='weighted')\n",
    "rs=recall_score(y_test, y_pred,average='weighted')\n",
    "accuracy=accuracy_score(y_test, y_pred)\n",
    "print('Confusion matrix:')\n",
    "print(cm)\n",
    "print(cr)\n",
    "print('F1 score: %f' % fs)\n",
    "print('Recall score: %f' % rs)\n",
    "print('Accuracy score: %f' % accuracy)"
   ]
  },
  {
   "cell_type": "code",
   "execution_count": 20,
   "id": "1feda919",
   "metadata": {
    "execution": {
     "iopub.execute_input": "2021-11-08T06:31:14.650887Z",
     "iopub.status.busy": "2021-11-08T06:31:14.649991Z",
     "iopub.status.idle": "2021-11-08T06:31:14.708521Z",
     "shell.execute_reply": "2021-11-08T06:31:14.707550Z",
     "shell.execute_reply.started": "2021-11-07T07:32:47.997511Z"
    },
    "papermill": {
     "duration": 0.124252,
     "end_time": "2021-11-08T06:31:14.708635",
     "exception": false,
     "start_time": "2021-11-08T06:31:14.584383",
     "status": "completed"
    },
    "tags": []
   },
   "outputs": [],
   "source": [
    "# Save classificationreport into csv\n",
    "report = classification_report(y_test, y_pred, output_dict = True)\n",
    "df=pd.DataFrame(report).transpose()\n",
    "df.to_csv('classificationreport.csv',index=False)"
   ]
  },
  {
   "cell_type": "code",
   "execution_count": 21,
   "id": "6259703a",
   "metadata": {
    "execution": {
     "iopub.execute_input": "2021-11-08T06:31:14.832092Z",
     "iopub.status.busy": "2021-11-08T06:31:14.831514Z",
     "iopub.status.idle": "2021-11-08T06:31:14.835326Z",
     "shell.execute_reply": "2021-11-08T06:31:14.834896Z",
     "shell.execute_reply.started": "2021-11-07T07:32:48.058456Z"
    },
    "papermill": {
     "duration": 0.067753,
     "end_time": "2021-11-08T06:31:14.835435",
     "exception": false,
     "start_time": "2021-11-08T06:31:14.767682",
     "status": "completed"
    },
    "tags": []
   },
   "outputs": [],
   "source": [
    "# Plot classification report and save to pdf function\n",
    "def plot_classification(precision, recall, f1_score):\n",
    "    plt.rcParams['font.size'] = 12\n",
    "    plt.rc('axes', linewidth=1.75)\n",
    "    marker_size = 8\n",
    "    figsize = 6\n",
    "    plt.figure(figsize=(1.4 * figsize, figsize))\n",
    "    plt.subplot(3, 1, 1)\n",
    "    plt.plot(precision, 'o', markersize=marker_size)\n",
    "    # plt.legend(loc=0)\n",
    "    # plt.yticks(np.arange(0.5, 1.01, 0.1))\n",
    "    plt.ylabel('Precision', fontsize=14)\n",
    "    plt.xticks([])\n",
    "    plt.subplot(3, 1, 2)\n",
    "    plt.plot(recall, 'o', markersize=marker_size)\n",
    "    # plt.yticks(np.arange(0.5, 1.01, 0.1))\n",
    "    plt.ylabel('Recall', fontsize=14)\n",
    "    plt.xticks([])\n",
    "    plt.subplot(3, 1, 3)\n",
    "    plt.plot(f1_score, 'o', markersize=marker_size)\n",
    "    # plt.yticks(np.arange(0.5, 1.01, 0.1))\n",
    "    plt.ylabel('F1-score', fontsize=14)\n",
    "    plt.xlabel('Class', fontsize=14)\n",
    "    plt.subplots_adjust(hspace=0.001)\n",
    "    plt.tight_layout()\n",
    "    plt.savefig(\"classification.pdf\")\n"
   ]
  },
  {
   "cell_type": "code",
   "execution_count": 22,
   "id": "20d3c963",
   "metadata": {
    "execution": {
     "iopub.execute_input": "2021-11-08T06:31:14.945162Z",
     "iopub.status.busy": "2021-11-08T06:31:14.943634Z",
     "iopub.status.idle": "2021-11-08T06:31:14.945801Z",
     "shell.execute_reply": "2021-11-08T06:31:14.946237Z",
     "shell.execute_reply.started": "2021-11-07T07:32:48.069194Z"
    },
    "papermill": {
     "duration": 0.058828,
     "end_time": "2021-11-08T06:31:14.946360",
     "exception": false,
     "start_time": "2021-11-08T06:31:14.887532",
     "status": "completed"
    },
    "tags": []
   },
   "outputs": [],
   "source": [
    "# Plot classification report and save to pdf\n",
    "def plot_confusion_matrix(cm):\n",
    "    plt.figure()\n",
    "    plt.imshow(cm, interpolation='nearest', cmap=plt.get_cmap('Blues'))\n",
    "    plt.colorbar()\n",
    "    plt.ylabel('True label', fontsize=14)\n",
    "    plt.xlabel('Predicted label', fontsize=14)\n",
    "    plt.tight_layout()\n",
    "    plt.savefig(\"confusion_matrix.pdf\")\n",
    "    plt.show()"
   ]
  },
  {
   "cell_type": "code",
   "execution_count": 23,
   "id": "8455dc77",
   "metadata": {
    "execution": {
     "iopub.execute_input": "2021-11-08T06:31:15.055232Z",
     "iopub.status.busy": "2021-11-08T06:31:15.054015Z",
     "iopub.status.idle": "2021-11-08T06:31:36.417383Z",
     "shell.execute_reply": "2021-11-08T06:31:36.416555Z",
     "shell.execute_reply.started": "2021-11-07T07:32:48.080678Z"
    },
    "papermill": {
     "duration": 21.419507,
     "end_time": "2021-11-08T06:31:36.417519",
     "exception": false,
     "start_time": "2021-11-08T06:31:14.998012",
     "status": "completed"
    },
    "tags": []
   },
   "outputs": [
    {
     "name": "stdout",
     "output_type": "stream",
     "text": [
      "Train accuracy: 0.999840\n"
     ]
    }
   ],
   "source": [
    "# Obtain training accuracy\n",
    "y_train, y_pred2 = test_label_predictions(model, device, trainloader)\n",
    "train_accuracy=accuracy_score(y_train, y_pred2)\n",
    "print('Train accuracy: %f' % train_accuracy)"
   ]
  },
  {
   "cell_type": "code",
   "execution_count": 24,
   "id": "69255231",
   "metadata": {
    "execution": {
     "iopub.execute_input": "2021-11-08T06:31:36.529621Z",
     "iopub.status.busy": "2021-11-08T06:31:36.528926Z",
     "iopub.status.idle": "2021-11-08T06:31:37.361196Z",
     "shell.execute_reply": "2021-11-08T06:31:37.360688Z",
     "shell.execute_reply.started": "2021-11-07T07:33:10.041967Z"
    },
    "papermill": {
     "duration": 0.891514,
     "end_time": "2021-11-08T06:31:37.361324",
     "exception": false,
     "start_time": "2021-11-08T06:31:36.469810",
     "status": "completed"
    },
    "tags": []
   },
   "outputs": [
    {
     "name": "stdout",
     "output_type": "stream",
     "text": [
      "[0.85 0.89 0.56 0.65 0.64 0.77 0.82 0.77 0.88 0.84 0.53 0.57 0.82 0.69\n",
      " 0.72 0.77 0.76 0.83 0.66 0.65 0.91 0.92 0.76 0.81 0.85 0.63 0.67 0.66\n",
      " 0.78 0.7  0.69 0.72 0.67 0.64 0.81 0.56 0.8  0.78 0.77 0.86 0.72 0.85\n",
      " 0.77 0.82 0.55 0.63 0.54 0.75 0.97 0.87 0.59 0.78 0.65 0.92 0.88 0.5\n",
      " 0.92 0.75 0.86 0.66 0.83 0.66 0.76 0.76 0.52 0.61 0.82 0.67 0.95 0.83\n",
      " 0.74 0.82 0.48 0.61 0.58 0.9  0.89 0.66 0.66 0.83 0.63 0.75 0.94 0.7\n",
      " 0.72 0.84 0.73 0.86 0.79 0.9  0.8  0.82 0.66 0.64 0.95 0.72 0.68 0.82\n",
      " 0.53 0.79]\n"
     ]
    },
    {
     "data": {
      "image/png": "[encoded data removed]",
      "text/plain": [
       "<Figure size 840x600 with 3 Axes>"
      ]
     },
     "metadata": {},
     "output_type": "display_data"
    },
    {
     "data": {
      "image/png": "[encoded data removed]",
      "text/plain": [
       "<Figure size 640x480 with 2 Axes>"
      ]
     },
     "metadata": {},
     "output_type": "display_data"
    }
   ],
   "source": [
    "# Plot and save confusion matrix\n",
    "precision, recall, f1,_= precision_recall_fscore_support(y_test, y_pred)\n",
    "print(recall)\n",
    "plot_classification(precision, recall, f1)\n",
    "\n",
    "# Plot confusion matrix\n",
    "plot_confusion_matrix(cm)"
   ]
  },
  {
   "cell_type": "code",
   "execution_count": 25,
   "id": "ca39f329",
   "metadata": {},
   "outputs": [],
   "source": [
    "from tqdm.auto import tqdm"
   ]
  },
  {
   "cell_type": "code",
   "execution_count": 26,
   "id": "26f8b2b5",
   "metadata": {},
   "outputs": [],
   "source": [
    "def eval_model_gpu(model:torch.nn.Module,\n",
    "               data_loader:torch.utils.data.DataLoader,\n",
    "               loss_fn:torch.nn.Module,\n",
    "               accuracy_fn):\n",
    "    \"\"\"Returns a dictionary containing the results of model predicting on data_loader.\"\"\"\n",
    "    loss,acc = 0,0\n",
    "    \n",
    "    model.eval()\n",
    "    with torch.inference_mode():\n",
    "        for X,Y in tqdm(data_loader):\n",
    "            # Make prediction\n",
    "            X,Y = X.to(device),Y.to(device)\n",
    "            y_pred = model(X)\n",
    "\n",
    "            # Accumulate the loss and acc values per batch\n",
    "            loss += loss_fn(y_pred,Y)\n",
    "\n",
    "            acc += accuracy_fn(Y,y_pred.argmax(dim=1))\n",
    "            \n",
    "        \n",
    "        # Scale loss and acc to find the average loss/acc per batch\n",
    "\n",
    "        loss /= len(data_loader)\n",
    "        acc /= len(data_loader)\n",
    "\n",
    "    return {\"Model_name\": model.__class__.__name__,\n",
    "            \"model_loss\":loss.item(),\n",
    "            \"model_acc\":acc}\n",
    "\n",
    "\n"
   ]
  },
  {
   "cell_type": "code",
   "execution_count": 30,
   "id": "0f113053",
   "metadata": {},
   "outputs": [],
   "source": [
    "loss_fn = nn.CrossEntropyLoss()\n",
    "from helper_functions import accuracy_fn"
   ]
  },
  {
   "cell_type": "code",
   "execution_count": 31,
   "id": "a0574fe8",
   "metadata": {},
   "outputs": [
    {
     "name": "stderr",
     "output_type": "stream",
     "text": [
      "100%|██████████| 13/13 [00:12<00:00,  1.07it/s]\n"
     ]
    }
   ],
   "source": [
    "model_result = eval_model_gpu(model=model,data_loader=testloader,loss_fn=loss_fn,accuracy_fn=accuracy_fn)"
   ]
  },
  {
   "cell_type": "code",
   "execution_count": 32,
   "id": "b889a122",
   "metadata": {},
   "outputs": [
    {
     "data": {
      "text/plain": [
       "{'Model_name': 'ResNet9',\n",
       " 'model_loss': 1.0258946418762207,\n",
       " 'model_acc': 74.58653846153847}"
      ]
     },
     "execution_count": 32,
     "metadata": {},
     "output_type": "execute_result"
    }
   ],
   "source": [
    "model_result"
   ]
  },
  {
   "cell_type": "code",
   "execution_count": null,
   "id": "ea94cfa4",
   "metadata": {},
   "outputs": [],
   "source": []
  }
 ],
 "metadata": {
  "kernelspec": {
   "display_name": "Python 3",
   "language": "python",
   "name": "python3"
  },
  "language_info": {
   "codemirror_mode": {
    "name": "ipython",
    "version": 3
   },
   "file_extension": ".py",
   "mimetype": "text/x-python",
   "name": "python",
   "nbconvert_exporter": "python",
   "pygments_lexer": "ipython3",
   "version": "3.12.4"
  },
  "papermill": {
   "default_parameters": {},
   "duration": 3295.761284,
   "end_time": "2021-11-08T06:31:38.933032",
   "environment_variables": {},
   "exception": null,
   "input_path": "__notebook__.ipynb",
   "output_path": "__notebook__.ipynb",
   "parameters": {},
   "start_time": "2021-11-08T05:36:43.171748",
   "version": "2.3.3"
  },
  "widgets": {
   "application/vnd.jupyter.widget-state+json": {
    "state": {
     "0684c2ce3d754d7f8bc29224aa464429": {
      "model_module": "@jupyter-widgets/base",
      "model_module_version": "1.2.0",
      "model_name": "LayoutModel",
      "state": {
       "_model_module": "@jupyter-widgets/base",
       "_model_module_version": "1.2.0",
       "_model_name": "LayoutModel",
       "_view_count": null,
       "_view_module": "@jupyter-widgets/base",
       "_view_module_version": "1.2.0",
       "_view_name": "LayoutView",
       "align_content": null,
       "align_items": null,
       "align_self": null,
       "border": null,
       "bottom": null,
       "display": null,
       "flex": null,
       "flex_flow": null,
       "grid_area": null,
       "grid_auto_columns": null,
       "grid_auto_flow": null,
       "grid_auto_rows": null,
       "grid_column": null,
       "grid_gap": null,
       "grid_row": null,
       "grid_template_areas": null,
       "grid_template_columns": null,
       "grid_template_rows": null,
       "height": null,
       "justify_content": null,
       "justify_items": null,
       "left": null,
       "margin": null,
       "max_height": null,
       "max_width": null,
       "min_height": null,
       "min_width": null,
       "object_fit": null,
       "object_position": null,
       "order": null,
       "overflow": null,
       "overflow_x": null,
       "overflow_y": null,
       "padding": null,
       "right": null,
       "top": null,
       "visibility": null,
       "width": null
      }
     },
     "1714f1741e3f4cbf92c575e74b5299e7": {
      "model_module": "@jupyter-widgets/controls",
      "model_module_version": "1.5.0",
      "model_name": "HBoxModel",
      "state": {
       "_dom_classes": [],
       "_model_module": "@jupyter-widgets/controls",
       "_model_module_version": "1.5.0",
       "_model_name": "HBoxModel",
       "_view_count": null,
       "_view_module": "@jupyter-widgets/controls",
       "_view_module_version": "1.5.0",
       "_view_name": "HBoxView",
       "box_style": "",
       "children": [
        "IPY_MODEL_a60e9016c1b643bb93b0900d69c48840",
        "IPY_MODEL_17c709d191634c94869a406f9efeabe0",
        "IPY_MODEL_d04f1b6c9ef6472da2444dbe49632094"
       ],
       "layout": "IPY_MODEL_0684c2ce3d754d7f8bc29224aa464429"
      }
     },
     "17c709d191634c94869a406f9efeabe0": {
      "model_module": "@jupyter-widgets/controls",
      "model_module_version": "1.5.0",
      "model_name": "FloatProgressModel",
      "state": {
       "_dom_classes": [],
       "_model_module": "@jupyter-widgets/controls",
       "_model_module_version": "1.5.0",
       "_model_name": "FloatProgressModel",
       "_view_count": null,
       "_view_module": "@jupyter-widgets/controls",
       "_view_module_version": "1.5.0",
       "_view_name": "ProgressView",
       "bar_style": "success",
       "description": "",
       "description_tooltip": null,
       "layout": "IPY_MODEL_c34afce5e7e74e3fa6b03864cf571e5e",
       "max": 169001437,
       "min": 0,
       "orientation": "horizontal",
       "style": "IPY_MODEL_8bef94e6859c4fb1b469e61083826b1d",
       "value": 169001437
      }
     },
     "27fd629222b54f38b01b54ffdef0eb6c": {
      "model_module": "@jupyter-widgets/base",
      "model_module_version": "1.2.0",
      "model_name": "LayoutModel",
      "state": {
       "_model_module": "@jupyter-widgets/base",
       "_model_module_version": "1.2.0",
       "_model_name": "LayoutModel",
       "_view_count": null,
       "_view_module": "@jupyter-widgets/base",
       "_view_module_version": "1.2.0",
       "_view_name": "LayoutView",
       "align_content": null,
       "align_items": null,
       "align_self": null,
       "border": null,
       "bottom": null,
       "display": null,
       "flex": null,
       "flex_flow": null,
       "grid_area": null,
       "grid_auto_columns": null,
       "grid_auto_flow": null,
       "grid_auto_rows": null,
       "grid_column": null,
       "grid_gap": null,
       "grid_row": null,
       "grid_template_areas": null,
       "grid_template_columns": null,
       "grid_template_rows": null,
       "height": null,
       "justify_content": null,
       "justify_items": null,
       "left": null,
       "margin": null,
       "max_height": null,
       "max_width": null,
       "min_height": null,
       "min_width": null,
       "object_fit": null,
       "object_position": null,
       "order": null,
       "overflow": null,
       "overflow_x": null,
       "overflow_y": null,
       "padding": null,
       "right": null,
       "top": null,
       "visibility": null,
       "width": null
      }
     },
     "8bef94e6859c4fb1b469e61083826b1d": {
      "model_module": "@jupyter-widgets/controls",
      "model_module_version": "1.5.0",
      "model_name": "ProgressStyleModel",
      "state": {
       "_model_module": "@jupyter-widgets/controls",
       "_model_module_version": "1.5.0",
       "_model_name": "ProgressStyleModel",
       "_view_count": null,
       "_view_module": "@jupyter-widgets/base",
       "_view_module_version": "1.2.0",
       "_view_name": "StyleView",
       "bar_color": null,
       "description_width": ""
      }
     },
     "a60e9016c1b643bb93b0900d69c48840": {
      "model_module": "@jupyter-widgets/controls",
      "model_module_version": "1.5.0",
      "model_name": "HTMLModel",
      "state": {
       "_dom_classes": [],
       "_model_module": "@jupyter-widgets/controls",
       "_model_module_version": "1.5.0",
       "_model_name": "HTMLModel",
       "_view_count": null,
       "_view_module": "@jupyter-widgets/controls",
       "_view_module_version": "1.5.0",
       "_view_name": "HTMLView",
       "description": "",
       "description_tooltip": null,
       "layout": "IPY_MODEL_27fd629222b54f38b01b54ffdef0eb6c",
       "placeholder": "​",
       "style": "IPY_MODEL_b258b37fa2a2492bb9497c52bd5746e6",
       "value": ""
      }
     },
     "b258b37fa2a2492bb9497c52bd5746e6": {
      "model_module": "@jupyter-widgets/controls",
      "model_module_version": "1.5.0",
      "model_name": "DescriptionStyleModel",
      "state": {
       "_model_module": "@jupyter-widgets/controls",
       "_model_module_version": "1.5.0",
       "_model_name": "DescriptionStyleModel",
       "_view_count": null,
       "_view_module": "@jupyter-widgets/base",
       "_view_module_version": "1.2.0",
       "_view_name": "StyleView",
       "description_width": ""
      }
     },
     "bc333719aa3d4ea5afd68198cead384b": {
      "model_module": "@jupyter-widgets/controls",
      "model_module_version": "1.5.0",
      "model_name": "DescriptionStyleModel",
      "state": {
       "_model_module": "@jupyter-widgets/controls",
       "_model_module_version": "1.5.0",
       "_model_name": "DescriptionStyleModel",
       "_view_count": null,
       "_view_module": "@jupyter-widgets/base",
       "_view_module_version": "1.2.0",
       "_view_name": "StyleView",
       "description_width": ""
      }
     },
     "c34afce5e7e74e3fa6b03864cf571e5e": {
      "model_module": "@jupyter-widgets/base",
      "model_module_version": "1.2.0",
      "model_name": "LayoutModel",
      "state": {
       "_model_module": "@jupyter-widgets/base",
       "_model_module_version": "1.2.0",
       "_model_name": "LayoutModel",
       "_view_count": null,
       "_view_module": "@jupyter-widgets/base",
       "_view_module_version": "1.2.0",
       "_view_name": "LayoutView",
       "align_content": null,
       "align_items": null,
       "align_self": null,
       "border": null,
       "bottom": null,
       "display": null,
       "flex": null,
       "flex_flow": null,
       "grid_area": null,
       "grid_auto_columns": null,
       "grid_auto_flow": null,
       "grid_auto_rows": null,
       "grid_column": null,
       "grid_gap": null,
       "grid_row": null,
       "grid_template_areas": null,
       "grid_template_columns": null,
       "grid_template_rows": null,
       "height": null,
       "justify_content": null,
       "justify_items": null,
       "left": null,
       "margin": null,
       "max_height": null,
       "max_width": null,
       "min_height": null,
       "min_width": null,
       "object_fit": null,
       "object_position": null,
       "order": null,
       "overflow": null,
       "overflow_x": null,
       "overflow_y": null,
       "padding": null,
       "right": null,
       "top": null,
       "visibility": null,
       "width": null
      }
     },
     "d04f1b6c9ef6472da2444dbe49632094": {
      "model_module": "@jupyter-widgets/controls",
      "model_module_version": "1.5.0",
      "model_name": "HTMLModel",
      "state": {
       "_dom_classes": [],
       "_model_module": "@jupyter-widgets/controls",
       "_model_module_version": "1.5.0",
       "_model_name": "HTMLModel",
       "_view_count": null,
       "_view_module": "@jupyter-widgets/controls",
       "_view_module_version": "1.5.0",
       "_view_name": "HTMLView",
       "description": "",
       "description_tooltip": null,
       "layout": "IPY_MODEL_d7c040d388e0463987972d910780fdb9",
       "placeholder": "​",
       "style": "IPY_MODEL_bc333719aa3d4ea5afd68198cead384b",
       "value": " 169001984/? [00:05&lt;00:00, 33094294.48it/s]"
      }
     },
     "d7c040d388e0463987972d910780fdb9": {
      "model_module": "@jupyter-widgets/base",
      "model_module_version": "1.2.0",
      "model_name": "LayoutModel",
      "state": {
       "_model_module": "@jupyter-widgets/base",
       "_model_module_version": "1.2.0",
       "_model_name": "LayoutModel",
       "_view_count": null,
       "_view_module": "@jupyter-widgets/base",
       "_view_module_version": "1.2.0",
       "_view_name": "LayoutView",
       "align_content": null,
       "align_items": null,
       "align_self": null,
       "border": null,
       "bottom": null,
       "display": null,
       "flex": null,
       "flex_flow": null,
       "grid_area": null,
       "grid_auto_columns": null,
       "grid_auto_flow": null,
       "grid_auto_rows": null,
       "grid_column": null,
       "grid_gap": null,
       "grid_row": null,
       "grid_template_areas": null,
       "grid_template_columns": null,
       "grid_template_rows": null,
       "height": null,
       "justify_content": null,
       "justify_items": null,
       "left": null,
       "margin": null,
       "max_height": null,
       "max_width": null,
       "min_height": null,
       "min_width": null,
       "object_fit": null,
       "object_position": null,
       "order": null,
       "overflow": null,
       "overflow_x": null,
       "overflow_y": null,
       "padding": null,
       "right": null,
       "top": null,
       "visibility": null,
       "width": null
      }
     }
    },
    "version_major": 2,
    "version_minor": 0
   }
  }
 },
 "nbformat": 4,
 "nbformat_minor": 5
}
